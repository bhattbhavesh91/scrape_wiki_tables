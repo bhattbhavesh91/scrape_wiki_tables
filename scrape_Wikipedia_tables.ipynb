{
 "cells": [
  {
   "cell_type": "code",
   "execution_count": 1,
   "metadata": {
    "collapsed": true
   },
   "outputs": [],
   "source": [
    "from bs4 import BeautifulSoup\n",
    "import urllib2\n",
    "import pandas as pd\n",
    "import re\n",
    "import requests\n",
    "\n",
    "# Reference - https://gist.github.com/wassname/5b10774dfcd61cdd3f28"
   ]
  },
  {
   "cell_type": "code",
   "execution_count": 2,
   "metadata": {
    "collapsed": true
   },
   "outputs": [],
   "source": [
    "wiki = 'https://en.wikipedia.org/wiki/Economy_of_the_European_Union'"
   ]
  },
  {
   "cell_type": "code",
   "execution_count": 3,
   "metadata": {
    "collapsed": true
   },
   "outputs": [],
   "source": [
    "proxies = {}"
   ]
  },
  {
   "cell_type": "code",
   "execution_count": 4,
   "metadata": {
    "collapsed": true
   },
   "outputs": [],
   "source": [
    "response = requests.get(wiki,proxies=proxies)"
   ]
  },
  {
   "cell_type": "code",
   "execution_count": 5,
   "metadata": {
    "collapsed": true
   },
   "outputs": [],
   "source": [
    "page_html = response.text\n",
    "page_soup = BeautifulSoup(page_html,\"html.parser\")"
   ]
  },
  {
   "cell_type": "code",
   "execution_count": 6,
   "metadata": {},
   "outputs": [],
   "source": [
    "tables = page_soup.findAll(\"table\", { \"class\" : \"wikitable\" })"
   ]
  },
  {
   "cell_type": "code",
   "execution_count": 7,
   "metadata": {},
   "outputs": [
    {
     "name": "stdout",
     "output_type": "stream",
     "text": [
      "Number of Tables = 17\n"
     ]
    }
   ],
   "source": [
    "print \"Number of Tables = \" +str(len(tables))"
   ]
  },
  {
   "cell_type": "code",
   "execution_count": 8,
   "metadata": {
    "collapsed": true
   },
   "outputs": [],
   "source": [
    "table_1 = tables[0]"
   ]
  },
  {
   "cell_type": "code",
   "execution_count": 9,
   "metadata": {},
   "outputs": [
    {
     "name": "stdout",
     "output_type": "stream",
     "text": [
      "<table class=\"wikitable\">\n",
      "<caption>Fortune top 10 E.U. corporations by revenue (2016)<sup class=\"reference\" id=\"cite_ref-fortune500_47-0\"><a href=\"#cite_note-fortune500-47\">[47]</a></sup></caption>\n",
      "<tr>\n",
      "<th>Rank</th>\n",
      "<th>Corporation</th>\n",
      "<th>Stock ticker</th>\n",
      "<th>Revenue $ millions</th>\n",
      "<th>Profit $ millions</th>\n",
      "<th>Employees</th>\n",
      "<th>Headquarters</th>\n",
      "<th>Industry</th>\n",
      "</tr>\n",
      "<tr>\n",
      "<td>1</td>\n",
      "<td><a href=\"/wiki/Royal_Dutch_Shell\" title=\"Royal Dutch Shell\">Royal Dutch Shell</a></td>\n",
      "<td>RDS.A</td>\n",
      "<td>272,156</td>\n",
      "<td>1,939</td>\n",
      "<td>90,000</td>\n",
      "<td><a class=\"new\" href=\"/w/index.php?title=Shell_Centre,_London&amp;action=edit&amp;redlink=1\" title=\"Shell Centre, London (page does not exist)\">Shell Centre, London</a>, UK, <a href=\"/wiki/The_Hague\" title=\"The Hague\">The Hague</a>, Netherlands</td>\n",
      "<td>Energy</td>\n",
      "</tr>\n",
      "<tr>\n",
      "<td>2</td>\n",
      "<td><a href=\"/wiki/Volkswagen_Group\" title=\"Volkswagen Group\">Volkswagen</a></td>\n",
      "<td>VLKAY</td>\n",
      "<td>236,600</td>\n",
      "<td>-1,520</td>\n",
      "<td>610,076</td>\n",
      "<td><a href=\"/wiki/Wolfsburg\" title=\"Wolfsburg\">Wolfsburg</a>, Germany</td>\n",
      "<td>Motor Vehicles &amp; Parts</td>\n",
      "</tr>\n",
      "<tr>\n",
      "<td>3</td>\n",
      "<td><a href=\"/wiki/BP\" title=\"BP\">BP PLC</a></td>\n",
      "<td>BP.L</td>\n",
      "<td>183,000</td>\n",
      "<td>4,100</td>\n",
      "<td>74500</td>\n",
      "<td><a href=\"/wiki/London\" title=\"London\">London</a>, UK</td>\n",
      "<td>Energy</td>\n",
      "</tr>\n",
      "<tr>\n",
      "<td>4</td>\n",
      "<td><a href=\"/wiki/Daimler_AG\" title=\"Daimler AG\">Daimler</a></td>\n",
      "<td>DDAIY</td>\n",
      "<td>165,800</td>\n",
      "<td>9,345</td>\n",
      "<td>284,015</td>\n",
      "<td><a href=\"/wiki/Stuttgart\" title=\"Stuttgart\">Stuttgart</a>, Germany</td>\n",
      "<td>Motor Vehicles &amp; Parts</td>\n",
      "</tr>\n",
      "<tr>\n",
      "<td>5</td>\n",
      "<td><a href=\"/wiki/Exor_(company)\" title=\"Exor (company)\">EXOR Group</a></td>\n",
      "<td>EXOSF</td>\n",
      "<td>152,591</td>\n",
      "<td>825</td>\n",
      "<td>303,247</td>\n",
      "<td><a href=\"/wiki/Turin\" title=\"Turin\">Turin</a>, Italy</td>\n",
      "<td>Financials</td>\n",
      "</tr>\n",
      "<tr>\n",
      "<td>6</td>\n",
      "<td><a href=\"/wiki/Total_S.A.\" title=\"Total S.A.\">Total</a></td>\n",
      "<td>TOT</td>\n",
      "<td>143,421</td>\n",
      "<td>5,087</td>\n",
      "<td>96,019</td>\n",
      "<td><a href=\"/wiki/Paris\" title=\"Paris\">Paris</a>, France</td>\n",
      "<td>Energy</td>\n",
      "</tr>\n",
      "<tr>\n",
      "<td>7</td>\n",
      "<td><a href=\"/wiki/E.ON\" title=\"E.ON\">E.ON</a></td>\n",
      "<td>EONGY</td>\n",
      "<td>129,277</td>\n",
      "<td>-7,764</td>\n",
      "<td>56,490</td>\n",
      "<td><a href=\"/wiki/Essen\" title=\"Essen\">Essen</a>, Germany</td>\n",
      "<td>Energy</td>\n",
      "</tr>\n",
      "<tr>\n",
      "<td>8</td>\n",
      "<td><a href=\"/wiki/AXA\" title=\"AXA\">AXA</a></td>\n",
      "<td>AXAHY</td>\n",
      "<td>129,250</td>\n",
      "<td>6,231</td>\n",
      "<td>98,279</td>\n",
      "<td><a href=\"/wiki/Paris\" title=\"Paris\">Paris</a>, France</td>\n",
      "<td>Financials</td>\n",
      "</tr>\n",
      "<tr>\n",
      "<td>9</td>\n",
      "<td><a href=\"/wiki/Allianz\" title=\"Allianz\">Allianz</a></td>\n",
      "<td>AZSEY</td>\n",
      "<td>122,948</td>\n",
      "<td>7,339</td>\n",
      "<td>142,459</td>\n",
      "<td><a href=\"/wiki/Munich\" title=\"Munich\">Munich</a>, Germany</td>\n",
      "<td>Financials</td>\n",
      "</tr>\n",
      "<tr>\n",
      "<td>10</td>\n",
      "<td><a href=\"/wiki/BNP_Paribas\" title=\"BNP Paribas\">BNP Paribas</a></td>\n",
      "<td>BNPQY</td>\n",
      "<td>111,531</td>\n",
      "<td>7,426</td>\n",
      "<td>181,551</td>\n",
      "<td><a href=\"/wiki/Paris\" title=\"Paris\">Paris</a>, France</td>\n",
      "<td>Financials</td>\n",
      "</tr>\n",
      "</table>\n"
     ]
    }
   ],
   "source": [
    "print table_1"
   ]
  },
  {
   "cell_type": "code",
   "execution_count": 10,
   "metadata": {},
   "outputs": [],
   "source": [
    "rows=table_1.findAll(\"tr\")\n",
    "row_lengths=[len(r.findAll(['th','td'])) for r in rows]\n",
    "ncols=max(row_lengths)\n",
    "nrows=len(rows)\n",
    "\n",
    "data=[]\n",
    "for i in range(nrows):\n",
    "    rowD=[]\n",
    "    for j in range(ncols):\n",
    "        rowD.append('')\n",
    "    data.append(rowD)"
   ]
  },
  {
   "cell_type": "code",
   "execution_count": 11,
   "metadata": {},
   "outputs": [
    {
     "name": "stdout",
     "output_type": "stream",
     "text": [
      "11\n",
      "8\n"
     ]
    }
   ],
   "source": [
    "print len(data)\n",
    "print len(data[0])"
   ]
  },
  {
   "cell_type": "code",
   "execution_count": 12,
   "metadata": {
    "collapsed": true
   },
   "outputs": [],
   "source": [
    "for i in range(len(rows)):\n",
    "    row=rows[i]\n",
    "    cells = row.findAll([\"td\",\"th\"])\n",
    "    for j in range(len(cells)):\n",
    "        cell=cells[j]\n",
    "        data[i][j]+=cell.text"
   ]
  },
  {
   "cell_type": "code",
   "execution_count": 13,
   "metadata": {},
   "outputs": [
    {
     "data": {
      "text/plain": [
       "[[u'Rank',\n",
       "  u'Corporation',\n",
       "  u'Stock ticker',\n",
       "  u'Revenue $ millions',\n",
       "  u'Profit $ millions',\n",
       "  u'Employees',\n",
       "  u'Headquarters',\n",
       "  u'Industry'],\n",
       " [u'1',\n",
       "  u'Royal Dutch Shell',\n",
       "  u'RDS.A',\n",
       "  u'272,156',\n",
       "  u'1,939',\n",
       "  u'90,000',\n",
       "  u'Shell Centre, London, UK, The Hague, Netherlands',\n",
       "  u'Energy'],\n",
       " [u'2',\n",
       "  u'Volkswagen',\n",
       "  u'VLKAY',\n",
       "  u'236,600',\n",
       "  u'-1,520',\n",
       "  u'610,076',\n",
       "  u'Wolfsburg, Germany',\n",
       "  u'Motor Vehicles & Parts'],\n",
       " [u'3',\n",
       "  u'BP PLC',\n",
       "  u'BP.L',\n",
       "  u'183,000',\n",
       "  u'4,100',\n",
       "  u'74500',\n",
       "  u'London, UK',\n",
       "  u'Energy'],\n",
       " [u'4',\n",
       "  u'Daimler',\n",
       "  u'DDAIY',\n",
       "  u'165,800',\n",
       "  u'9,345',\n",
       "  u'284,015',\n",
       "  u'Stuttgart, Germany',\n",
       "  u'Motor Vehicles & Parts'],\n",
       " [u'5',\n",
       "  u'EXOR Group',\n",
       "  u'EXOSF',\n",
       "  u'152,591',\n",
       "  u'825',\n",
       "  u'303,247',\n",
       "  u'Turin, Italy',\n",
       "  u'Financials'],\n",
       " [u'6',\n",
       "  u'Total',\n",
       "  u'TOT',\n",
       "  u'143,421',\n",
       "  u'5,087',\n",
       "  u'96,019',\n",
       "  u'Paris, France',\n",
       "  u'Energy'],\n",
       " [u'7',\n",
       "  u'E.ON',\n",
       "  u'EONGY',\n",
       "  u'129,277',\n",
       "  u'-7,764',\n",
       "  u'56,490',\n",
       "  u'Essen, Germany',\n",
       "  u'Energy'],\n",
       " [u'8',\n",
       "  u'AXA',\n",
       "  u'AXAHY',\n",
       "  u'129,250',\n",
       "  u'6,231',\n",
       "  u'98,279',\n",
       "  u'Paris, France',\n",
       "  u'Financials'],\n",
       " [u'9',\n",
       "  u'Allianz',\n",
       "  u'AZSEY',\n",
       "  u'122,948',\n",
       "  u'7,339',\n",
       "  u'142,459',\n",
       "  u'Munich, Germany',\n",
       "  u'Financials'],\n",
       " [u'10',\n",
       "  u'BNP Paribas',\n",
       "  u'BNPQY',\n",
       "  u'111,531',\n",
       "  u'7,426',\n",
       "  u'181,551',\n",
       "  u'Paris, France',\n",
       "  u'Financials']]"
      ]
     },
     "execution_count": 13,
     "metadata": {},
     "output_type": "execute_result"
    }
   ],
   "source": [
    "data"
   ]
  },
  {
   "cell_type": "code",
   "execution_count": 14,
   "metadata": {
    "collapsed": true
   },
   "outputs": [],
   "source": [
    "data_cols = data[0]\n",
    "data = data[1:]"
   ]
  },
  {
   "cell_type": "code",
   "execution_count": 15,
   "metadata": {},
   "outputs": [
    {
     "data": {
      "text/html": [
       "<div>\n",
       "<style>\n",
       "    .dataframe thead tr:only-child th {\n",
       "        text-align: right;\n",
       "    }\n",
       "\n",
       "    .dataframe thead th {\n",
       "        text-align: left;\n",
       "    }\n",
       "\n",
       "    .dataframe tbody tr th {\n",
       "        vertical-align: top;\n",
       "    }\n",
       "</style>\n",
       "<table border=\"1\" class=\"dataframe\">\n",
       "  <thead>\n",
       "    <tr style=\"text-align: right;\">\n",
       "      <th></th>\n",
       "      <th>Rank</th>\n",
       "      <th>Corporation</th>\n",
       "      <th>Stock ticker</th>\n",
       "      <th>Revenue $ millions</th>\n",
       "      <th>Profit $ millions</th>\n",
       "      <th>Employees</th>\n",
       "      <th>Headquarters</th>\n",
       "      <th>Industry</th>\n",
       "    </tr>\n",
       "  </thead>\n",
       "  <tbody>\n",
       "    <tr>\n",
       "      <th>0</th>\n",
       "      <td>1</td>\n",
       "      <td>Royal Dutch Shell</td>\n",
       "      <td>RDS.A</td>\n",
       "      <td>272,156</td>\n",
       "      <td>1,939</td>\n",
       "      <td>90,000</td>\n",
       "      <td>Shell Centre, London, UK, The Hague, Netherlands</td>\n",
       "      <td>Energy</td>\n",
       "    </tr>\n",
       "    <tr>\n",
       "      <th>1</th>\n",
       "      <td>2</td>\n",
       "      <td>Volkswagen</td>\n",
       "      <td>VLKAY</td>\n",
       "      <td>236,600</td>\n",
       "      <td>-1,520</td>\n",
       "      <td>610,076</td>\n",
       "      <td>Wolfsburg, Germany</td>\n",
       "      <td>Motor Vehicles &amp; Parts</td>\n",
       "    </tr>\n",
       "    <tr>\n",
       "      <th>2</th>\n",
       "      <td>3</td>\n",
       "      <td>BP PLC</td>\n",
       "      <td>BP.L</td>\n",
       "      <td>183,000</td>\n",
       "      <td>4,100</td>\n",
       "      <td>74500</td>\n",
       "      <td>London, UK</td>\n",
       "      <td>Energy</td>\n",
       "    </tr>\n",
       "    <tr>\n",
       "      <th>3</th>\n",
       "      <td>4</td>\n",
       "      <td>Daimler</td>\n",
       "      <td>DDAIY</td>\n",
       "      <td>165,800</td>\n",
       "      <td>9,345</td>\n",
       "      <td>284,015</td>\n",
       "      <td>Stuttgart, Germany</td>\n",
       "      <td>Motor Vehicles &amp; Parts</td>\n",
       "    </tr>\n",
       "    <tr>\n",
       "      <th>4</th>\n",
       "      <td>5</td>\n",
       "      <td>EXOR Group</td>\n",
       "      <td>EXOSF</td>\n",
       "      <td>152,591</td>\n",
       "      <td>825</td>\n",
       "      <td>303,247</td>\n",
       "      <td>Turin, Italy</td>\n",
       "      <td>Financials</td>\n",
       "    </tr>\n",
       "    <tr>\n",
       "      <th>5</th>\n",
       "      <td>6</td>\n",
       "      <td>Total</td>\n",
       "      <td>TOT</td>\n",
       "      <td>143,421</td>\n",
       "      <td>5,087</td>\n",
       "      <td>96,019</td>\n",
       "      <td>Paris, France</td>\n",
       "      <td>Energy</td>\n",
       "    </tr>\n",
       "    <tr>\n",
       "      <th>6</th>\n",
       "      <td>7</td>\n",
       "      <td>E.ON</td>\n",
       "      <td>EONGY</td>\n",
       "      <td>129,277</td>\n",
       "      <td>-7,764</td>\n",
       "      <td>56,490</td>\n",
       "      <td>Essen, Germany</td>\n",
       "      <td>Energy</td>\n",
       "    </tr>\n",
       "    <tr>\n",
       "      <th>7</th>\n",
       "      <td>8</td>\n",
       "      <td>AXA</td>\n",
       "      <td>AXAHY</td>\n",
       "      <td>129,250</td>\n",
       "      <td>6,231</td>\n",
       "      <td>98,279</td>\n",
       "      <td>Paris, France</td>\n",
       "      <td>Financials</td>\n",
       "    </tr>\n",
       "    <tr>\n",
       "      <th>8</th>\n",
       "      <td>9</td>\n",
       "      <td>Allianz</td>\n",
       "      <td>AZSEY</td>\n",
       "      <td>122,948</td>\n",
       "      <td>7,339</td>\n",
       "      <td>142,459</td>\n",
       "      <td>Munich, Germany</td>\n",
       "      <td>Financials</td>\n",
       "    </tr>\n",
       "    <tr>\n",
       "      <th>9</th>\n",
       "      <td>10</td>\n",
       "      <td>BNP Paribas</td>\n",
       "      <td>BNPQY</td>\n",
       "      <td>111,531</td>\n",
       "      <td>7,426</td>\n",
       "      <td>181,551</td>\n",
       "      <td>Paris, France</td>\n",
       "      <td>Financials</td>\n",
       "    </tr>\n",
       "  </tbody>\n",
       "</table>\n",
       "</div>"
      ],
      "text/plain": [
       "  Rank        Corporation Stock ticker Revenue $ millions Profit $ millions  \\\n",
       "0    1  Royal Dutch Shell        RDS.A            272,156             1,939   \n",
       "1    2         Volkswagen        VLKAY            236,600            -1,520   \n",
       "2    3             BP PLC         BP.L            183,000             4,100   \n",
       "3    4            Daimler        DDAIY            165,800             9,345   \n",
       "4    5         EXOR Group        EXOSF            152,591               825   \n",
       "5    6              Total          TOT            143,421             5,087   \n",
       "6    7               E.ON        EONGY            129,277            -7,764   \n",
       "7    8                AXA        AXAHY            129,250             6,231   \n",
       "8    9            Allianz        AZSEY            122,948             7,339   \n",
       "9   10        BNP Paribas        BNPQY            111,531             7,426   \n",
       "\n",
       "  Employees                                      Headquarters  \\\n",
       "0    90,000  Shell Centre, London, UK, The Hague, Netherlands   \n",
       "1   610,076                                Wolfsburg, Germany   \n",
       "2     74500                                        London, UK   \n",
       "3   284,015                                Stuttgart, Germany   \n",
       "4   303,247                                      Turin, Italy   \n",
       "5    96,019                                     Paris, France   \n",
       "6    56,490                                    Essen, Germany   \n",
       "7    98,279                                     Paris, France   \n",
       "8   142,459                                   Munich, Germany   \n",
       "9   181,551                                     Paris, France   \n",
       "\n",
       "                 Industry  \n",
       "0                  Energy  \n",
       "1  Motor Vehicles & Parts  \n",
       "2                  Energy  \n",
       "3  Motor Vehicles & Parts  \n",
       "4              Financials  \n",
       "5                  Energy  \n",
       "6                  Energy  \n",
       "7              Financials  \n",
       "8              Financials  \n",
       "9              Financials  "
      ]
     },
     "execution_count": 15,
     "metadata": {},
     "output_type": "execute_result"
    }
   ],
   "source": [
    "df = pd.DataFrame(data, columns=data_cols)\n",
    "df"
   ]
  }
 ],
 "metadata": {
  "kernelspec": {
   "display_name": "Python 2",
   "language": "python",
   "name": "python2"
  },
  "language_info": {
   "codemirror_mode": {
    "name": "ipython",
    "version": 2
   },
   "file_extension": ".py",
   "mimetype": "text/x-python",
   "name": "python",
   "nbconvert_exporter": "python",
   "pygments_lexer": "ipython2",
   "version": "2.7.13"
  }
 },
 "nbformat": 4,
 "nbformat_minor": 2
}
